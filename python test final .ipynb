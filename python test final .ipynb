{
 "cells": [
  {
   "cell_type": "markdown",
   "id": "a7ee4211-1a2a-4997-ad20-e6024bcecda7",
   "metadata": {},
   "source": []
  },
  {
   "cell_type": "code",
   "execution_count": 90,
   "id": "03a01e82-e03a-4445-ad1d-dfeb606cd501",
   "metadata": {},
   "outputs": [],
   "source": [
    "#2 print(2*3+4)   # First multiplication will be executed and then addition according to BODMASS. "
   ]
  },
  {
   "cell_type": "code",
   "execution_count": 88,
   "id": "2cb4a6c4-2131-4ba0-9cce-4720bcfccf61",
   "metadata": {},
   "outputs": [],
   "source": [
    "#3  print(8/2*5) # Fist division will be executed then multiplication. "
   ]
  },
  {
   "cell_type": "code",
   "execution_count": null,
   "id": "6b6081e5-33e7-4d8e-b235-e96dbfba9843",
   "metadata": {},
   "outputs": [],
   "source": [
    "# 4  15/4"
   ]
  },
  {
   "cell_type": "code",
   "execution_count": 123,
   "id": "f5f1abc2-47c8-4719-9822-f2e64397672c",
   "metadata": {},
   "outputs": [],
   "source": [
    "#5 C= (100-32)"
   ]
  },
  {
   "cell_type": "code",
   "execution_count": 92,
   "id": "e46663a2-be8f-4c4d-b0df-1f6ff5cc3367",
   "metadata": {},
   "outputs": [
    {
     "name": "stdout",
     "output_type": "stream",
     "text": [
      "11\n"
     ]
    }
   ],
   "source": [
    " #6  print(10//3+2**3)"
   ]
  },
  {
   "cell_type": "code",
   "execution_count": null,
   "id": "7d25ca19-f1a3-4cfd-8214-53592c890dac",
   "metadata": {},
   "outputs": [],
   "source": [
    "#7 True  "
   ]
  },
  {
   "cell_type": "code",
   "execution_count": null,
   "id": "b5d9bbb2-dbf3-451b-acf2-0fe975f1ba46",
   "metadata": {},
   "outputs": [],
   "source": [
    "#8 False "
   ]
  },
  {
   "cell_type": "code",
   "execution_count": null,
   "id": "c4c002ab-24f4-4a08-92d2-fd4e3e221517",
   "metadata": {},
   "outputs": [],
   "source": [
    "# 10 Float "
   ]
  },
  {
   "cell_type": "code",
   "execution_count": null,
   "id": "1642affa-ee9e-4380-bba5-ce942a4251dd",
   "metadata": {},
   "outputs": [],
   "source": [
    "# 13 4 +3.5= 7.5 . This is a float as it contains a decimal point. "
   ]
  },
  {
   "cell_type": "code",
   "execution_count": null,
   "id": "241021d2-0547-4f97-892f-bccb18c8abda",
   "metadata": {},
   "outputs": [],
   "source": [
    "# 15 You can find the type of a variable by using type () function. "
   ]
  },
  {
   "cell_type": "code",
   "execution_count": 104,
   "id": "828985ba-b499-43a1-aa50-a747cfb493ad",
   "metadata": {},
   "outputs": [],
   "source": [
    " x='my name is yash '"
   ]
  },
  {
   "cell_type": "code",
   "execution_count": 111,
   "id": "1565ae09-5183-4e96-87bc-9c537772fa5f",
   "metadata": {},
   "outputs": [
    {
     "name": "stdout",
     "output_type": "stream",
     "text": [
      "<class 'str'>\n"
     ]
    }
   ],
   "source": [
    " #16        print (type(x)) \n"
   ]
  },
  {
   "cell_type": "code",
   "execution_count": null,
   "id": "3dac4f40-94ab-4667-8f7f-015bcec38052",
   "metadata": {},
   "outputs": [],
   "source": [
    " # 17 lst=[]"
   ]
  },
  {
   "cell_type": "code",
   "execution_count": 113,
   "id": "89557d9c-56f1-429a-848c-f2684f9ebb75",
   "metadata": {},
   "outputs": [
    {
     "ename": "NameError",
     "evalue": "name 'lst' is not defined",
     "output_type": "error",
     "traceback": [
      "\u001b[0;31m---------------------------------------------------------------------------\u001b[0m",
      "\u001b[0;31mNameError\u001b[0m                                 Traceback (most recent call last)",
      "Cell \u001b[0;32mIn[113], line 1\u001b[0m\n\u001b[0;32m----> 1\u001b[0m lst\u001b[38;5;241m.\u001b[39madd[\u001b[38;5;241m42\u001b[39m]\n",
      "\u001b[0;31mNameError\u001b[0m: name 'lst' is not defined"
     ]
    }
   ],
   "source": [
    "l1=[1,2,3]\n"
   ]
  },
  {
   "cell_type": "code",
   "execution_count": 117,
   "id": "5815cf66-fe79-4995-9b09-a292c67cc6b6",
   "metadata": {},
   "outputs": [
    {
     "ename": "NameError",
     "evalue": "name 'l1' is not defined",
     "output_type": "error",
     "traceback": [
      "\u001b[0;31m---------------------------------------------------------------------------\u001b[0m",
      "\u001b[0;31mNameError\u001b[0m                                 Traceback (most recent call last)",
      "Cell \u001b[0;32mIn[117], line 1\u001b[0m\n\u001b[0;32m----> 1\u001b[0m l1\u001b[38;5;241m.\u001b[39mappend [\u001b[38;5;241m42\u001b[39m]\n",
      "\u001b[0;31mNameError\u001b[0m: name 'l1' is not defined"
     ]
    }
   ],
   "source": [
    "l1.append (42)"
   ]
  },
  {
   "cell_type": "code",
   "execution_count": 119,
   "id": "c01e3228-81a9-4f01-b9dd-f1ddbba575c3",
   "metadata": {},
   "outputs": [
    {
     "ename": "NameError",
     "evalue": "name 'l1' is not defined",
     "output_type": "error",
     "traceback": [
      "\u001b[0;31m---------------------------------------------------------------------------\u001b[0m",
      "\u001b[0;31mNameError\u001b[0m                                 Traceback (most recent call last)",
      "Cell \u001b[0;32mIn[119], line 1\u001b[0m\n\u001b[0;32m----> 1\u001b[0m l1\u001b[38;5;241m=\u001b[39ml1\u001b[38;5;241m+\u001b[39m\u001b[38;5;241m42\u001b[39m\n",
      "\u001b[0;31mNameError\u001b[0m: name 'l1' is not defined"
     ]
    }
   ],
   "source": [
    "#20 List is a data structure which is a container. It is denoted with square brackets. It is mutable as it can be edited. "
   ]
  },
  {
   "cell_type": "code",
   "execution_count": null,
   "id": "67dd3678-1664-4738-a91a-6259986f6b56",
   "metadata": {},
   "outputs": [],
   "source": [
    "# Tuple is a data structure in python. It is denoted with round brackets . It is immutable which means it sdata cannot be directly edited it can also be edited if its converted into a list first. "
   ]
  },
  {
   "cell_type": "code",
   "execution_count": 121,
   "id": "2be51527-f2bd-4ef6-b9bc-f21a4495cc9c",
   "metadata": {},
   "outputs": [],
   "source": [
    "# 21 set()={1,2,3}"
   ]
  },
  {
   "cell_type": "code",
   "execution_count": null,
   "id": "1cff6e59-9f9c-4dd3-8385-2d602fa6bfd1",
   "metadata": {},
   "outputs": [],
   "source": [
    "#22 A function named .remove is used to remove an element from a set. "
   ]
  },
  {
   "cell_type": "code",
   "execution_count": 127,
   "id": "0df16dd6-2e24-423d-b19e-3a728a7ddb52",
   "metadata": {},
   "outputs": [
    {
     "ename": "NameError",
     "evalue": "name 'value1' is not defined",
     "output_type": "error",
     "traceback": [
      "\u001b[0;31m---------------------------------------------------------------------------\u001b[0m",
      "\u001b[0;31mNameError\u001b[0m                                 Traceback (most recent call last)",
      "Cell \u001b[0;32mIn[127], line 1\u001b[0m\n\u001b[0;32m----> 1\u001b[0m my_dict\u001b[38;5;241m=\u001b[39m{value1}\n",
      "\u001b[0;31mNameError\u001b[0m: name 'value1' is not defined"
     ]
    }
   ],
   "source": [
    " my_dict= 'name'='Alice','age=25}"
   ]
  },
  {
   "cell_type": "code",
   "execution_count": 131,
   "id": "8ea604c6-66c8-4852-abaa-7f34d804595d",
   "metadata": {},
   "outputs": [
    {
     "ename": "NameError",
     "evalue": "name 'key1' is not defined",
     "output_type": "error",
     "traceback": [
      "\u001b[0;31m---------------------------------------------------------------------------\u001b[0m",
      "\u001b[0;31mNameError\u001b[0m                                 Traceback (most recent call last)",
      "Cell \u001b[0;32mIn[131], line 1\u001b[0m\n\u001b[0;32m----> 1\u001b[0m my_dict\u001b[38;5;241m=\u001b[39m {key1:value1}\n",
      "\u001b[0;31mNameError\u001b[0m: name 'key1' is not defined"
     ]
    }
   ],
   "source": [
    "my_dict= {key1:value1} "
   ]
  },
  {
   "cell_type": "code",
   "execution_count": 137,
   "id": "79bb4ff5-3681-44a0-8e7e-f7b9f243098d",
   "metadata": {},
   "outputs": [
    {
     "ename": "SyntaxError",
     "evalue": "invalid syntax (3366798448.py, line 1)",
     "output_type": "error",
     "traceback": [
      "\u001b[0;36m  Cell \u001b[0;32mIn[137], line 1\u001b[0;36m\u001b[0m\n\u001b[0;31m    my_dict={key1:value1} value1='Alice'\u001b[0m\n\u001b[0m                          ^\u001b[0m\n\u001b[0;31mSyntaxError\u001b[0m\u001b[0;31m:\u001b[0m invalid syntax\n"
     ]
    }
   ],
   "source": [
    "my_dict={key1:value1} value1='Alice'"
   ]
  },
  {
   "cell_type": "code",
   "execution_count": 135,
   "id": "01a7f72d-4a6f-49b2-b99d-256ab072eb7c",
   "metadata": {},
   "outputs": [
    {
     "ename": "NameError",
     "evalue": "name 'value1' is not defined",
     "output_type": "error",
     "traceback": [
      "\u001b[0;31m---------------------------------------------------------------------------\u001b[0m",
      "\u001b[0;31mNameError\u001b[0m                                 Traceback (most recent call last)",
      "Cell \u001b[0;32mIn[135], line 1\u001b[0m\n\u001b[0;32m----> 1\u001b[0m \u001b[38;5;28mprint\u001b[39m(value1)\n",
      "\u001b[0;31mNameError\u001b[0m: name 'value1' is not defined"
     ]
    }
   ],
   "source": [
    "print(value1)"
   ]
  },
  {
   "cell_type": "code",
   "execution_count": null,
   "id": "412e5907-ecb9-42bc-bce2-9f13721235fb",
   "metadata": {},
   "outputs": [],
   "source": []
  }
 ],
 "metadata": {
  "kernelspec": {
   "display_name": "Python 3 (ipykernel)",
   "language": "python",
   "name": "python3"
  },
  "language_info": {
   "codemirror_mode": {
    "name": "ipython",
    "version": 3
   },
   "file_extension": ".py",
   "mimetype": "text/x-python",
   "name": "python",
   "nbconvert_exporter": "python",
   "pygments_lexer": "ipython3",
   "version": "3.12.7"
  }
 },
 "nbformat": 4,
 "nbformat_minor": 5
}
