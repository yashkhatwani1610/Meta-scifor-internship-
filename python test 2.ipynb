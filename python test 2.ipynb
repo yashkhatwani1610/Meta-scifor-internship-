{
 "cells": [
  {
   "cell_type": "code",
   "execution_count": null,
   "id": "4e28af0f-7c5c-4634-9123-94f566a8be98",
   "metadata": {},
   "outputs": [],
   "source": [
    "# 1  For,is,else and elif are keywords in python. Keywords are special words that have some meaning in python. "
   ]
  },
  {
   "cell_type": "code",
   "execution_count": 1,
   "id": "079bb85e-c803-46df-811b-3a65f68ea1dd",
   "metadata": {},
   "outputs": [],
   "source": [
    " #2  area=(a*b)"
   ]
  },
  {
   "cell_type": "code",
   "execution_count": 3,
   "id": "6a293900-dafe-4da3-9705-251af5f1193d",
   "metadata": {},
   "outputs": [
    {
     "ename": "NameError",
     "evalue": "name 'area' is not defined",
     "output_type": "error",
     "traceback": [
      "\u001b[0;31m---------------------------------------------------------------------------\u001b[0m",
      "\u001b[0;31mNameError\u001b[0m                                 Traceback (most recent call last)",
      "Cell \u001b[0;32mIn[3], line 1\u001b[0m\n\u001b[0;32m----> 1\u001b[0m area\n",
      "\u001b[0;31mNameError\u001b[0m: name 'area' is not defined"
     ]
    }
   ],
   "source": []
  },
  {
   "cell_type": "code",
   "execution_count": 19,
   "id": "ced1ff4a-5ec9-4937-bf0d-eeefdad018c3",
   "metadata": {},
   "outputs": [],
   "source": [
    "#6    x='3.14'"
   ]
  },
  {
   "cell_type": "code",
   "execution_count": 21,
   "id": "7920382d-7243-4990-bd23-683340433307",
   "metadata": {},
   "outputs": [
    {
     "ename": "SyntaxError",
     "evalue": "Missing parentheses in call to 'print'. Did you mean print(...)? (184554864.py, line 1)",
     "output_type": "error",
     "traceback": [
      "\u001b[0;36m  Cell \u001b[0;32mIn[21], line 1\u001b[0;36m\u001b[0m\n\u001b[0;31m    print type(x)\u001b[0m\n\u001b[0m    ^\u001b[0m\n\u001b[0;31mSyntaxError\u001b[0m\u001b[0;31m:\u001b[0m Missing parentheses in call to 'print'. Did you mean print(...)?\n"
     ]
    }
   ],
   "source": [
    "print type(x)"
   ]
  },
  {
   "cell_type": "code",
   "execution_count": 25,
   "id": "cd1306b9-7401-48f6-81a7-493fac976bc0",
   "metadata": {},
   "outputs": [
    {
     "name": "stdout",
     "output_type": "stream",
     "text": [
      "<class 'str'>\n"
     ]
    }
   ],
   "source": [
    "print(type(x))"
   ]
  },
  {
   "cell_type": "code",
   "execution_count": 33,
   "id": "7232fb68-9210-48a4-913b-adcf7e160bfc",
   "metadata": {},
   "outputs": [],
   "source": [
    " #8  str1='i am yash'\n",
    "     str2='i am 23 years old'\n"
   ]
  },
  {
   "cell_type": "code",
   "execution_count": 35,
   "id": "6137d352-b6ec-4a09-bb28-77887ebd0af8",
   "metadata": {},
   "outputs": [
    {
     "name": "stdout",
     "output_type": "stream",
     "text": [
      "i am yashi am 23 years old\n"
     ]
    }
   ],
   "source": [
    "print (str1+str2)"
   ]
  },
  {
   "cell_type": "code",
   "execution_count": null,
   "id": "94e5b82c-bc84-410f-adc9-d6bb1053d4f5",
   "metadata": {},
   "outputs": [],
   "source": [
    "#9 The output of 3>2 is 'true' which is a string. "
   ]
  },
  {
   "cell_type": "code",
   "execution_count": null,
   "id": "5d78df1d-5f37-4e53-a26d-4c262689d8ed",
   "metadata": {},
   "outputs": [],
   "source": [
    "# 11 lst=[1,2,3,4,5]"
   ]
  },
  {
   "cell_type": "code",
   "execution_count": 37,
   "id": "4d6a00f0-eb9e-47fe-8792-2d9b7ca89333",
   "metadata": {},
   "outputs": [
    {
     "ename": "SyntaxError",
     "evalue": "Missing parentheses in call to 'print'. Did you mean print(...)? (4030078047.py, line 1)",
     "output_type": "error",
     "traceback": [
      "\u001b[0;36m  Cell \u001b[0;32mIn[37], line 1\u001b[0;36m\u001b[0m\n\u001b[0;31m    print lst[3]\u001b[0m\n\u001b[0m    ^\u001b[0m\n\u001b[0;31mSyntaxError\u001b[0m\u001b[0;31m:\u001b[0m Missing parentheses in call to 'print'. Did you mean print(...)?\n"
     ]
    }
   ],
   "source": [
    "print lst[3]"
   ]
  },
  {
   "cell_type": "code",
   "execution_count": 39,
   "id": "2fea403e-fdff-4b23-8161-91cc47b1956b",
   "metadata": {},
   "outputs": [
    {
     "ename": "TypeError",
     "evalue": "'builtin_function_or_method' object is not subscriptable",
     "output_type": "error",
     "traceback": [
      "\u001b[0;31m---------------------------------------------------------------------------\u001b[0m",
      "\u001b[0;31mTypeError\u001b[0m                                 Traceback (most recent call last)",
      "Cell \u001b[0;32mIn[39], line 1\u001b[0m\n\u001b[0;32m----> 1\u001b[0m \u001b[38;5;28mprint\u001b[39m[\u001b[38;5;241m3\u001b[39m]\n",
      "\u001b[0;31mTypeError\u001b[0m: 'builtin_function_or_method' object is not subscriptable"
     ]
    }
   ],
   "source": [
    "print[3]"
   ]
  },
  {
   "cell_type": "code",
   "execution_count": 43,
   "id": "af6d67a2-9e69-4b7a-8b86-a0c1b11d0474",
   "metadata": {},
   "outputs": [
    {
     "name": "stdout",
     "output_type": "stream",
     "text": [
      "list[3]\n"
     ]
    }
   ],
   "source": [
    "print(list[3])"
   ]
  },
  {
   "cell_type": "code",
   "execution_count": 45,
   "id": "f6d9e3d5-8159-4119-a7d3-02f09419f894",
   "metadata": {},
   "outputs": [
    {
     "ename": "NameError",
     "evalue": "name 'lst' is not defined",
     "output_type": "error",
     "traceback": [
      "\u001b[0;31m---------------------------------------------------------------------------\u001b[0m",
      "\u001b[0;31mNameError\u001b[0m                                 Traceback (most recent call last)",
      "Cell \u001b[0;32mIn[45], line 1\u001b[0m\n\u001b[0;32m----> 1\u001b[0m \u001b[38;5;28mprint\u001b[39m(lst[\u001b[38;5;241m3\u001b[39m])\n",
      "\u001b[0;31mNameError\u001b[0m: name 'lst' is not defined"
     ]
    }
   ],
   "source": [
    "print(lst[3])"
   ]
  },
  {
   "cell_type": "code",
   "execution_count": 60,
   "id": "d2303648-b6b3-4e13-b1c4-96421e208fff",
   "metadata": {},
   "outputs": [],
   "source": [
    " #12  my_list=[1,2,3,4,5]"
   ]
  },
  {
   "cell_type": "code",
   "execution_count": 68,
   "id": "abc90d8c-87ee-465a-b7e5-f4208bf14ea2",
   "metadata": {},
   "outputs": [],
   "source": [
    "my_list.append(6)"
   ]
  },
  {
   "cell_type": "code",
   "execution_count": 70,
   "id": "734f1ed0-0b98-40bb-be74-442ff6c624b9",
   "metadata": {},
   "outputs": [
    {
     "name": "stdout",
     "output_type": "stream",
     "text": [
      "[1, 2, 3, 4, 5, 6, 6]\n"
     ]
    }
   ],
   "source": [
    "print(my_list)"
   ]
  },
  {
   "cell_type": "code",
   "execution_count": null,
   "id": "892d4766-c81a-4f38-8df5-140c4269a97d",
   "metadata": {},
   "outputs": [],
   "source": [
    "#13    lst."
   ]
  },
  {
   "cell_type": "code",
   "execution_count": 72,
   "id": "1d9eda15-f6b9-49ec-aec1-82644a77b644",
   "metadata": {},
   "outputs": [
    {
     "name": "stdout",
     "output_type": "stream",
     "text": [
      "[1, 2, 3, 4, 5, 6, 6]\n"
     ]
    }
   ],
   "source": [
    "print(my_list)"
   ]
  },
  {
   "cell_type": "code",
   "execution_count": 74,
   "id": "7938af2a-a652-44b4-a8ef-09385be269ab",
   "metadata": {},
   "outputs": [
    {
     "data": {
      "text/plain": [
       "6"
      ]
     },
     "execution_count": 74,
     "metadata": {},
     "output_type": "execute_result"
    }
   ],
   "source": [
    "my_list.pop(6)"
   ]
  },
  {
   "cell_type": "code",
   "execution_count": 76,
   "id": "8e74d0b0-ac9c-444f-a1f1-57e032ccebe0",
   "metadata": {},
   "outputs": [
    {
     "name": "stdout",
     "output_type": "stream",
     "text": [
      "[1, 2, 3, 4, 5, 6]\n"
     ]
    }
   ],
   "source": [
    "print(my_list)"
   ]
  },
  {
   "cell_type": "code",
   "execution_count": 82,
   "id": "9b08581a-1e91-4222-86c2-a56862b38763",
   "metadata": {},
   "outputs": [
    {
     "data": {
      "text/plain": [
       "6"
      ]
     },
     "execution_count": 82,
     "metadata": {},
     "output_type": "execute_result"
    }
   ],
   "source": [
    "my_list.pop(5)"
   ]
  },
  {
   "cell_type": "code",
   "execution_count": 84,
   "id": "f5dd18b6-475c-40bd-a028-8e4b92e9252e",
   "metadata": {},
   "outputs": [
    {
     "name": "stdout",
     "output_type": "stream",
     "text": [
      "[1, 2, 3, 4, 5]\n"
     ]
    }
   ],
   "source": [
    "print(my_list)"
   ]
  },
  {
   "cell_type": "code",
   "execution_count": 3,
   "id": "8b8d5d2f-ddf2-479b-b9b3-8145062473fb",
   "metadata": {},
   "outputs": [],
   "source": [
    "#14 num=(1,2,3,4)"
   ]
  },
  {
   "cell_type": "code",
   "execution_count": 5,
   "id": "5d12267e-08d0-4d48-a54d-a6f64e4319f0",
   "metadata": {},
   "outputs": [
    {
     "ename": "SyntaxError",
     "evalue": "invalid syntax (273387238.py, line 1)",
     "output_type": "error",
     "traceback": [
      "\u001b[0;36m  Cell \u001b[0;32mIn[5], line 1\u001b[0;36m\u001b[0m\n\u001b[0;31m    num=\u001b[0m\n\u001b[0m        ^\u001b[0m\n\u001b[0;31mSyntaxError\u001b[0m\u001b[0;31m:\u001b[0m invalid syntax\n"
     ]
    }
   ],
   "source": [
    "num="
   ]
  },
  {
   "cell_type": "code",
   "execution_count": 7,
   "id": "15f84eb1-9816-4c62-bb9e-1135f76047c1",
   "metadata": {},
   "outputs": [
    {
     "data": {
      "text/plain": [
       "tuple"
      ]
     },
     "execution_count": 7,
     "metadata": {},
     "output_type": "execute_result"
    }
   ],
   "source": [
    "type(num)"
   ]
  },
  {
   "cell_type": "code",
   "execution_count": 13,
   "id": "966cd469-0a2d-4bf4-a592-2d60f6d08672",
   "metadata": {},
   "outputs": [
    {
     "name": "stdout",
     "output_type": "stream",
     "text": [
      "(1, 2, 3, 4)\n"
     ]
    }
   ],
   "source": [
    "print(num)"
   ]
  },
  {
   "cell_type": "code",
   "execution_count": 15,
   "id": "c8fd8e41-2eb4-4efa-9ad7-c59e2810358d",
   "metadata": {},
   "outputs": [],
   "source": [
    "# # It comes as an error as for a tuple it is immutable which means it cant be edited . Although this can be done if it is converted into a list. "
   ]
  },
  {
   "cell_type": "code",
   "execution_count": 54,
   "id": "bc9fc756-d071-4775-92c9-58c1e20c9e3a",
   "metadata": {},
   "outputs": [
    {
     "ename": "SyntaxError",
     "evalue": "invalid syntax (1238173086.py, line 1)",
     "output_type": "error",
     "traceback": [
      "\u001b[0;36m  Cell \u001b[0;32mIn[54], line 1\u001b[0;36m\u001b[0m\n\u001b[0;31m    my_dict= {'name':'Alice''age':25}\u001b[0m\n\u001b[0m                                 ^\u001b[0m\n\u001b[0;31mSyntaxError\u001b[0m\u001b[0;31m:\u001b[0m invalid syntax\n"
     ]
    }
   ],
   "source": [
    " my_dict= {'name':'Alice''age':25} "
   ]
  },
  {
   "cell_type": "code",
   "execution_count": 56,
   "id": "5fd3efb1-6c49-4329-b5f1-6ae318befc57",
   "metadata": {},
   "outputs": [
    {
     "ename": "NameError",
     "evalue": "name 'my_dict' is not defined",
     "output_type": "error",
     "traceback": [
      "\u001b[0;31m---------------------------------------------------------------------------\u001b[0m",
      "\u001b[0;31mNameError\u001b[0m                                 Traceback (most recent call last)",
      "Cell \u001b[0;32mIn[56], line 1\u001b[0m\n\u001b[0;32m----> 1\u001b[0m my_dict(\u001b[38;5;124m'\u001b[39m\u001b[38;5;124mname\u001b[39m\u001b[38;5;124m'\u001b[39m)\n",
      "\u001b[0;31mNameError\u001b[0m: name 'my_dict' is not defined"
     ]
    }
   ],
   "source": [
    " my_dict('name')"
   ]
  },
  {
   "cell_type": "code",
   "execution_count": 58,
   "id": "af8f065b-8044-4fda-ab26-28682621322f",
   "metadata": {},
   "outputs": [
    {
     "ename": "NameError",
     "evalue": "name 'my_dict' is not defined",
     "output_type": "error",
     "traceback": [
      "\u001b[0;31m---------------------------------------------------------------------------\u001b[0m",
      "\u001b[0;31mNameError\u001b[0m                                 Traceback (most recent call last)",
      "Cell \u001b[0;32mIn[58], line 1\u001b[0m\n\u001b[0;32m----> 1\u001b[0m my_dict[name]\n",
      "\u001b[0;31mNameError\u001b[0m: name 'my_dict' is not defined"
     ]
    }
   ],
   "source": [
    "my_dict[name]"
   ]
  },
  {
   "cell_type": "code",
   "execution_count": 60,
   "id": "e59824b0-ba58-42c9-885d-16ec5e3fbdc0",
   "metadata": {},
   "outputs": [
    {
     "ename": "NameError",
     "evalue": "name 'my_dict' is not defined",
     "output_type": "error",
     "traceback": [
      "\u001b[0;31m---------------------------------------------------------------------------\u001b[0m",
      "\u001b[0;31mNameError\u001b[0m                                 Traceback (most recent call last)",
      "Cell \u001b[0;32mIn[60], line 1\u001b[0m\n\u001b[0;32m----> 1\u001b[0m \u001b[38;5;28mprint\u001b[39m(my_dict)\n",
      "\u001b[0;31mNameError\u001b[0m: name 'my_dict' is not defined"
     ]
    }
   ],
   "source": [
    "print(my_dict)"
   ]
  },
  {
   "cell_type": "code",
   "execution_count": 62,
   "id": "d62552b8-7fd4-4ed2-8455-d841519fe058",
   "metadata": {},
   "outputs": [
    {
     "ename": "NameError",
     "evalue": "name 'my_dict' is not defined",
     "output_type": "error",
     "traceback": [
      "\u001b[0;31m---------------------------------------------------------------------------\u001b[0m",
      "\u001b[0;31mNameError\u001b[0m                                 Traceback (most recent call last)",
      "Cell \u001b[0;32mIn[62], line 1\u001b[0m\n\u001b[0;32m----> 1\u001b[0m my_dict\n",
      "\u001b[0;31mNameError\u001b[0m: name 'my_dict' is not defined"
     ]
    }
   ],
   "source": [
    "my_dict"
   ]
  },
  {
   "cell_type": "code",
   "execution_count": 64,
   "id": "e90dba5d-7e2f-45e7-ba46-6810c6d70402",
   "metadata": {},
   "outputs": [
    {
     "data": {
      "text/plain": [
       "'name'"
      ]
     },
     "execution_count": 64,
     "metadata": {},
     "output_type": "execute_result"
    }
   ],
   "source": [
    "'name'"
   ]
  },
  {
   "cell_type": "code",
   "execution_count": null,
   "id": "492a0a8f-54dd-4221-bb04-830dbafde30d",
   "metadata": {},
   "outputs": [],
   "source": [
    "#19 A list is a data structure and is  container that stores data . It is mutable and is stored in[] brackets. A set is a data structure of unique elements. It is represented in() bracketds. "
   ]
  },
  {
   "cell_type": "code",
   "execution_count": 66,
   "id": "1f6abcf6-d78e-4c19-933c-497f04d424df",
   "metadata": {},
   "outputs": [],
   "source": [
    "# 21 if x>11: print(\"x is greater than 10\")"
   ]
  },
  {
   "cell_type": "code",
   "execution_count": 68,
   "id": "48873340-df63-41ea-8c00-1ddbb74a596a",
   "metadata": {},
   "outputs": [],
   "source": [
    "# 25 if x<367 print(\"it is a leap year\")"
   ]
  },
  {
   "cell_type": "code",
   "execution_count": null,
   "id": "3bd9c5b0-2dc8-4f86-ac9f-64eff403051d",
   "metadata": {},
   "outputs": [],
   "source": [
    "# 27 if 5 >= x <=10 "
   ]
  },
  {
   "cell_type": "code",
   "execution_count": null,
   "id": "5109a5e0-f337-41d7-bf1d-fe8982ebf351",
   "metadata": {},
   "outputs": [],
   "source": []
  }
 ],
 "metadata": {
  "kernelspec": {
   "display_name": "Python 3 (ipykernel)",
   "language": "python",
   "name": "python3"
  },
  "language_info": {
   "codemirror_mode": {
    "name": "ipython",
    "version": 3
   },
   "file_extension": ".py",
   "mimetype": "text/x-python",
   "name": "python",
   "nbconvert_exporter": "python",
   "pygments_lexer": "ipython3",
   "version": "3.12.7"
  }
 },
 "nbformat": 4,
 "nbformat_minor": 5
}
