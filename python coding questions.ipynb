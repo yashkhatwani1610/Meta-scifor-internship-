{
 "cells": [
  {
   "cell_type": "code",
   "execution_count": 3,
   "id": "edfac5b3-9637-45fd-9f89-009f7308210a",
   "metadata": {},
   "outputs": [
    {
     "data": {
      "text/plain": [
       "11"
      ]
     },
     "execution_count": 3,
     "metadata": {},
     "output_type": "execute_result"
    }
   ],
   "source": []
  },
  {
   "cell_type": "code",
   "execution_count": 5,
   "id": "964b2afa-3820-48d4-bda9-cf10c77d85d7",
   "metadata": {},
   "outputs": [
    {
     "data": {
      "text/plain": [
       "13"
      ]
     },
     "execution_count": 5,
     "metadata": {},
     "output_type": "execute_result"
    }
   ],
   "source": [
    "#2 2**3+5"
   ]
  },
  {
   "cell_type": "code",
   "execution_count": 7,
   "id": "5f35b1aa-f3d2-4a0c-a434-fb8347b7e6cc",
   "metadata": {},
   "outputs": [
    {
     "data": {
      "text/plain": [
       "42"
      ]
     },
     "execution_count": 7,
     "metadata": {},
     "output_type": "execute_result"
    }
   ],
   "source": [
    " # 3 (10-3)*(2+4)"
   ]
  },
  {
   "cell_type": "code",
   "execution_count": 9,
   "id": "9dd03139-be28-4957-92f9-84f504b05a63",
   "metadata": {},
   "outputs": [
    {
     "data": {
      "text/plain": [
       "3"
      ]
     },
     "execution_count": 9,
     "metadata": {},
     "output_type": "execute_result"
    }
   ],
   "source": [
    " # 4   15//4"
   ]
  },
  {
   "cell_type": "code",
   "execution_count": 13,
   "id": "1be13ac9-6462-4d58-a7f8-47ea51e423fb",
   "metadata": {},
   "outputs": [
    {
     "data": {
      "text/plain": [
       "3"
      ]
     },
     "execution_count": 13,
     "metadata": {},
     "output_type": "execute_result"
    }
   ],
   "source": [
    "# 5  15//4"
   ]
  },
  {
   "cell_type": "code",
   "execution_count": null,
   "id": "d44736ca-2366-4ab3-9dc5-cc0f33c9c1a3",
   "metadata": {},
   "outputs": [],
   "source": [
    "x=42"
   ]
  },
  {
   "cell_type": "code",
   "execution_count": 15,
   "id": "1f1e82a0-2d9c-4bc1-b3b6-157a85b21b2b",
   "metadata": {},
   "outputs": [
    {
     "ename": "NameError",
     "evalue": "name 'x' is not defined",
     "output_type": "error",
     "traceback": [
      "\u001b[0;31m---------------------------------------------------------------------------\u001b[0m",
      "\u001b[0;31mNameError\u001b[0m                                 Traceback (most recent call last)",
      "Cell \u001b[0;32mIn[15], line 1\u001b[0m\n\u001b[0;32m----> 1\u001b[0m \u001b[38;5;28mprint\u001b[39m(\u001b[38;5;28mtype\u001b[39m(x))\n",
      "\u001b[0;31mNameError\u001b[0m: name 'x' is not defined"
     ]
    }
   ],
   "source": [
    "print(type(x))"
   ]
  },
  {
   "cell_type": "code",
   "execution_count": 7,
   "id": "f5986560-54fa-4f1a-86c7-001cc025b2b5",
   "metadata": {},
   "outputs": [],
   "source": [
    " #7    fruits= ['apple, banana,cherry']"
   ]
  },
  {
   "cell_type": "code",
   "execution_count": 9,
   "id": "ec12cf4c-47e9-44e6-ab05-38625df36fea",
   "metadata": {},
   "outputs": [
    {
     "name": "stdout",
     "output_type": "stream",
     "text": [
      "<class 'list'>\n"
     ]
    }
   ],
   "source": [
    "print(type(fruits))"
   ]
  },
  {
   "cell_type": "code",
   "execution_count": null,
   "id": "24262b79-5c76-4a63-9ae4-d53cf6f0f0dc",
   "metadata": {},
   "outputs": [],
   "source": [
    "'is active'=True "
   ]
  },
  {
   "cell_type": "code",
   "execution_count": 13,
   "id": "c87c2455-7540-4667-ba8a-4bcf470327e7",
   "metadata": {},
   "outputs": [
    {
     "name": "stdout",
     "output_type": "stream",
     "text": [
      "<class 'str'>\n"
     ]
    }
   ],
   "source": [
    " #8    print(type('is active'))"
   ]
  },
  {
   "cell_type": "code",
   "execution_count": 25,
   "id": "21b5c947-4165-4ac3-8f08-e91d4af33fdb",
   "metadata": {},
   "outputs": [],
   "source": [
    "#9   price=3.14"
   ]
  },
  {
   "cell_type": "code",
   "execution_count": 27,
   "id": "a8478d83-598e-40f8-a2ef-3011777a8561",
   "metadata": {},
   "outputs": [
    {
     "name": "stdout",
     "output_type": "stream",
     "text": [
      "<class 'float'>\n"
     ]
    }
   ],
   "source": [
    "print(type(price))"
   ]
  },
  {
   "cell_type": "code",
   "execution_count": 31,
   "id": "594fa3da-c9f6-4287-9ea0-3366e48fc0ae",
   "metadata": {},
   "outputs": [
    {
     "name": "stdout",
     "output_type": "stream",
     "text": [
      "<class 'str'>\n"
     ]
    }
   ],
   "source": [
    " #10 print(type('Hello World'))"
   ]
  },
  {
   "cell_type": "code",
   "execution_count": 42,
   "id": "c6396d00-47e8-43c2-87d6-fc7906626c5c",
   "metadata": {},
   "outputs": [
    {
     "ename": "SyntaxError",
     "evalue": "invalid syntax (2362489526.py, line 1)",
     "output_type": "error",
     "traceback": [
      "\u001b[0;36m  Cell \u001b[0;32mIn[42], line 1\u001b[0;36m\u001b[0m\n\u001b[0;31m    'fruits=['apple', 'banana' , 'mango']'\u001b[0m\n\u001b[0m              ^\u001b[0m\n\u001b[0;31mSyntaxError\u001b[0m\u001b[0;31m:\u001b[0m invalid syntax\n"
     ]
    }
   ],
   "source": [
    "#11'fruits=['apple', 'banana' , 'mango']'"
   ]
  },
  {
   "cell_type": "raw",
   "id": "28a443f0-69fa-430b-8c0d-6c9588c15cb2",
   "metadata": {},
   "source": [
    "print(fruits)"
   ]
  },
  {
   "cell_type": "code",
   "execution_count": 52,
   "id": "b45f4109-23a7-4908-8cfb-b427b8ae4679",
   "metadata": {},
   "outputs": [],
   "source": [
    "#12 fruits_ = ('apple', 'banana', 'cherry')\n"
   ]
  },
  {
   "cell_type": "code",
   "execution_count": 59,
   "id": "e0eb341f-06be-4974-af03-dcc54a4902ef",
   "metadata": {},
   "outputs": [],
   "source": [
    "fruits_=list(fruits_)"
   ]
  },
  {
   "cell_type": "raw",
   "id": "311a984d-c964-4143-a6b9-baf71c904612",
   "metadata": {},
   "source": [
    "print(fruits_list)"
   ]
  },
  {
   "cell_type": "code",
   "execution_count": 65,
   "id": "ae58b4ba-249f-4368-9260-8843322139fc",
   "metadata": {},
   "outputs": [],
   "source": [
    " #13 my_list=[10,20,30]"
   ]
  },
  {
   "cell_type": "code",
   "execution_count": 67,
   "id": "6cee819a-fb35-40ac-9744-4b74743e6e4a",
   "metadata": {},
   "outputs": [
    {
     "name": "stdout",
     "output_type": "stream",
     "text": [
      "10\n"
     ]
    }
   ],
   "source": [
    "print(my_list[0])"
   ]
  },
  {
   "cell_type": "code",
   "execution_count": 79,
   "id": "2a683f5b-9b08-451d-9430-bbb82eb49911",
   "metadata": {},
   "outputs": [],
   "source": [
    " # 14 my_list = [10, 20, 30]"
   ]
  },
  {
   "cell_type": "code",
   "execution_count": 81,
   "id": "1625be4a-f5ef-4cc9-a4ca-9f7277056aae",
   "metadata": {},
   "outputs": [
    {
     "name": "stdout",
     "output_type": "stream",
     "text": [
      "3\n"
     ]
    }
   ],
   "source": [
    "print(len(my_list))  "
   ]
  },
  {
   "cell_type": "code",
   "execution_count": 85,
   "id": "b82dc938-2f6e-4887-a9a1-02742bb4e064",
   "metadata": {},
   "outputs": [],
   "source": [
    "#15 my_list =[10,20,30]"
   ]
  },
  {
   "cell_type": "code",
   "execution_count": 90,
   "id": "243204dc-9fe1-4797-8432-19c5c82d6dab",
   "metadata": {},
   "outputs": [],
   "source": [
    "my_list.append(40)"
   ]
  },
  {
   "cell_type": "code",
   "execution_count": 93,
   "id": "f0c3e783-99f4-43ba-ac81-0093799b2247",
   "metadata": {},
   "outputs": [
    {
     "name": "stdout",
     "output_type": "stream",
     "text": [
      "[10, 20, 30, 40]\n"
     ]
    }
   ],
   "source": [
    "print(my_list)"
   ]
  },
  {
   "cell_type": "code",
   "execution_count": 110,
   "id": "f35b77b4-f59f-4d91-8719-3db470b30697",
   "metadata": {},
   "outputs": [
    {
     "name": "stdout",
     "output_type": "stream",
     "text": [
      "0\n",
      "1\n",
      "2\n",
      "3\n",
      "4\n",
      "5\n"
     ]
    }
   ],
   "source": [
    "#16 for i in range(6):\n",
    "    print(i)\n",
    "\n"
   ]
  },
  {
   "cell_type": "code",
   "execution_count": 108,
   "id": "fa6e2d05-75b0-49b1-8ebb-da0e32df180a",
   "metadata": {},
   "outputs": [
    {
     "ename": "NameError",
     "evalue": "name 'i' is not defined",
     "output_type": "error",
     "traceback": [
      "\u001b[0;31m---------------------------------------------------------------------------\u001b[0m",
      "\u001b[0;31mNameError\u001b[0m                                 Traceback (most recent call last)",
      "Cell \u001b[0;32mIn[108], line 1\u001b[0m\n\u001b[0;32m----> 1\u001b[0m \u001b[38;5;28mprint\u001b[39m(i)\n",
      "\u001b[0;31mNameError\u001b[0m: name 'i' is not defined"
     ]
    }
   ],
   "source": []
  },
  {
   "cell_type": "code",
   "execution_count": 129,
   "id": "d1887fa2-d10c-4fb7-80ca-54529e018d80",
   "metadata": {},
   "outputs": [
    {
     "ename": "SyntaxError",
     "evalue": "incomplete input (1757009044.py, line 1)",
     "output_type": "error",
     "traceback": [
      "\u001b[0;36m  Cell \u001b[0;32mIn[129], line 1\u001b[0;36m\u001b[0m\n\u001b[0;31m    for i in range(3, 6):\u001b[0m\n\u001b[0m                         ^\u001b[0m\n\u001b[0;31mSyntaxError\u001b[0m\u001b[0;31m:\u001b[0m incomplete input\n"
     ]
    }
   ],
   "source": [
    "#17   for i in range(3, 6):"
   ]
  },
  {
   "cell_type": "code",
   "execution_count": null,
   "id": "04c9f38f-79a1-40d8-bf61-6661333d72c9",
   "metadata": {},
   "outputs": [],
   "source": [
    " #18 fruits=[['apple', 'banana','cherry']"
   ]
  },
  {
   "cell_type": "code",
   "execution_count": null,
   "id": "f1354eb8-dd09-431b-aa48-cc1496138ca4",
   "metadata": {},
   "outputs": [],
   "source": [
    "for fruits in fruits:"
   ]
  },
  {
   "cell_type": "code",
   "execution_count": 132,
   "id": "e0319580-eb5a-4e5e-ad34-13d51c1cac2e",
   "metadata": {},
   "outputs": [
    {
     "name": "stdout",
     "output_type": "stream",
     "text": [
      "['apple, banana,cherry']\n"
     ]
    }
   ],
   "source": [
    "print(fruits)"
   ]
  },
  {
   "cell_type": "code",
   "execution_count": null,
   "id": "34e23438-e8f5-47ee-ada2-d715216394dc",
   "metadata": {},
   "outputs": [],
   "source": [
    " "
   ]
  }
 ],
 "metadata": {
  "kernelspec": {
   "display_name": "Python 3 (ipykernel)",
   "language": "python",
   "name": "python3"
  },
  "language_info": {
   "codemirror_mode": {
    "name": "ipython",
    "version": 3
   },
   "file_extension": ".py",
   "mimetype": "text/x-python",
   "name": "python",
   "nbconvert_exporter": "python",
   "pygments_lexer": "ipython3",
   "version": "3.12.7"
  }
 },
 "nbformat": 4,
 "nbformat_minor": 5
}
