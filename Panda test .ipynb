{
 "cells": [
  {
   "cell_type": "code",
   "execution_count": 1,
   "id": "b592a836-b84a-4c37-bd2f-9ee7b9b2ae35",
   "metadata": {},
   "outputs": [],
   "source": [
    "import pandas as pd\n",
    "import numpy as np"
   ]
  },
  {
   "cell_type": "code",
   "execution_count": 25,
   "id": "cb72f6b4-90a7-4356-af21-8c5fcef6d5fd",
   "metadata": {},
   "outputs": [],
   "source": [
    " #1  data = {\n",
    "    'Name': ['Alice', 'Bob', 'Charlie'], \n",
    "    'Age': [25, 30, 35],                \n",
    "    'City': ['New York', 'Paris', 'London']}"
   ]
  },
  {
   "cell_type": "code",
   "execution_count": 31,
   "id": "28a94ad7-718b-4b3a-b9f9-070c7dc7e09e",
   "metadata": {},
   "outputs": [],
   "source": [
    "df=pd.DataFrame(data)"
   ]
  },
  {
   "cell_type": "code",
   "execution_count": 33,
   "id": "eeaa6a57-3e12-43e7-ac3f-78d1e7e94360",
   "metadata": {},
   "outputs": [
    {
     "name": "stdout",
     "output_type": "stream",
     "text": [
      "      Name  Age      City\n",
      "0    Alice   25  New York\n",
      "1      Bob   30     Paris\n",
      "2  Charlie   35    London\n"
     ]
    }
   ],
   "source": [
    "print(df)"
   ]
  },
  {
   "cell_type": "code",
   "execution_count": 57,
   "id": "713f9d7f-9aad-4c45-ba45-cd06eec88cfe",
   "metadata": {},
   "outputs": [],
   "source": [
    "  #2 df = pd.read_csv('https://raw.githubusercontent.com/s4sauravv/Datasets/main/Advertising.csv')\n"
   ]
  },
  {
   "cell_type": "code",
   "execution_count": 60,
   "id": "e2604c44-3735-4d7d-8b47-96e93dab2cdf",
   "metadata": {},
   "outputs": [
    {
     "name": "stdout",
     "output_type": "stream",
     "text": [
      "     Unnamed: 0     TV  radio  newspaper  sales\n",
      "0             1  230.1   37.8       69.2   22.1\n",
      "1             2   44.5   39.3       45.1   10.4\n",
      "2             3   17.2   45.9       69.3    9.3\n",
      "3             4  151.5   41.3       58.5   18.5\n",
      "4             5  180.8   10.8       58.4   12.9\n",
      "..          ...    ...    ...        ...    ...\n",
      "195         196   38.2    3.7       13.8    7.6\n",
      "196         197   94.2    4.9        8.1    9.7\n",
      "197         198  177.0    9.3        6.4   12.8\n",
      "198         199  283.6   42.0       66.2   25.5\n",
      "199         200  232.1    8.6        8.7   13.4\n",
      "\n",
      "[200 rows x 5 columns]\n"
     ]
    }
   ],
   "source": [
    "print(df)"
   ]
  },
  {
   "cell_type": "code",
   "execution_count": null,
   "id": "2c67d9a1-8369-40a0-9ca3-12a6ffbb43b3",
   "metadata": {},
   "outputs": [],
   "source": [
    "# Here the path of the .csv file is uploaded with dataframe and panda . "
   ]
  },
  {
   "cell_type": "code",
   "execution_count": 90,
   "id": "5dd1a0ec-f47c-46f6-a600-cae067999adb",
   "metadata": {},
   "outputs": [],
   "source": [
    "  # 3 data = {\n",
    "    'Name': ['Alice', 'Bob', 'Charlie'], \n",
    "    'Age': [25, 30, 35],                \n",
    "    'City': ['New York', 'Paris', 'London']}"
   ]
  },
  {
   "cell_type": "code",
   "execution_count": 92,
   "id": "088d6d2a-52f5-4786-a502-677e9b3b14a5",
   "metadata": {},
   "outputs": [],
   "source": [
    "df=pd.DataFrame(data)"
   ]
  },
  {
   "cell_type": "code",
   "execution_count": 98,
   "id": "2aeea616-ca7d-40e8-bd79-342895e1e03d",
   "metadata": {},
   "outputs": [
    {
     "name": "stdout",
     "output_type": "stream",
     "text": [
      "      Name  Age      City\n",
      "0    Alice   25  New York\n",
      "1      Bob   30     Paris\n",
      "2  Charlie   35    London\n"
     ]
    }
   ],
   "source": [
    "print(df)"
   ]
  },
  {
   "cell_type": "code",
   "execution_count": 17,
   "id": "d1c94ff9-0af7-4c14-8d6e-63d9ad5df926",
   "metadata": {},
   "outputs": [],
   "source": [
    "import pandas as pd\n",
    "import numpy as np"
   ]
  },
  {
   "cell_type": "code",
   "execution_count": null,
   "id": "9d94a101-d1ba-4bbb-9285-605d882bc410",
   "metadata": {},
   "outputs": [],
   "source": [
    "data = {\n",
    "    'Name': ['Alice', 'Bob', 'Charlie'], \n",
    "    'Age': [25, 30, 35],                \n",
    "    'City': ['New York', 'Paris', 'London']}"
   ]
  },
  {
   "cell_type": "code",
   "execution_count": 20,
   "id": "21979307-a445-47dd-8858-732e63c4550c",
   "metadata": {},
   "outputs": [],
   "source": [
    "df=pd.DataFrame(data)"
   ]
  },
  {
   "cell_type": "code",
   "execution_count": 22,
   "id": "f751e4fd-5ab4-4313-8e2b-fb50a373b00a",
   "metadata": {},
   "outputs": [
    {
     "name": "stdout",
     "output_type": "stream",
     "text": [
      "(3, 3)\n"
     ]
    }
   ],
   "source": [
    " #5  print(df.shape)"
   ]
  },
  {
   "cell_type": "code",
   "execution_count": null,
   "id": "4dfc7630-f222-4551-b0ee-1dafed602c30",
   "metadata": {},
   "outputs": [],
   "source": [
    "# Shape is used to find the number of rows and colums in a dataset. "
   ]
  },
  {
   "cell_type": "code",
   "execution_count": 24,
   "id": "e9a72a66-7e71-4ea4-af88-9dc70d23db78",
   "metadata": {},
   "outputs": [],
   "source": [
    "  # 7 df['Country']='USA'"
   ]
  },
  {
   "cell_type": "code",
   "execution_count": 26,
   "id": "d9ea3741-cb22-42f4-9880-41b6be21044f",
   "metadata": {},
   "outputs": [
    {
     "data": {
      "text/html": [
       "<div>\n",
       "<style scoped>\n",
       "    .dataframe tbody tr th:only-of-type {\n",
       "        vertical-align: middle;\n",
       "    }\n",
       "\n",
       "    .dataframe tbody tr th {\n",
       "        vertical-align: top;\n",
       "    }\n",
       "\n",
       "    .dataframe thead th {\n",
       "        text-align: right;\n",
       "    }\n",
       "</style>\n",
       "<table border=\"1\" class=\"dataframe\">\n",
       "  <thead>\n",
       "    <tr style=\"text-align: right;\">\n",
       "      <th></th>\n",
       "      <th>Name</th>\n",
       "      <th>Age</th>\n",
       "      <th>City</th>\n",
       "      <th>Country</th>\n",
       "    </tr>\n",
       "  </thead>\n",
       "  <tbody>\n",
       "    <tr>\n",
       "      <th>0</th>\n",
       "      <td>Alice</td>\n",
       "      <td>25</td>\n",
       "      <td>New York</td>\n",
       "      <td>USA</td>\n",
       "    </tr>\n",
       "    <tr>\n",
       "      <th>1</th>\n",
       "      <td>Bob</td>\n",
       "      <td>30</td>\n",
       "      <td>Paris</td>\n",
       "      <td>USA</td>\n",
       "    </tr>\n",
       "    <tr>\n",
       "      <th>2</th>\n",
       "      <td>Charlie</td>\n",
       "      <td>35</td>\n",
       "      <td>London</td>\n",
       "      <td>USA</td>\n",
       "    </tr>\n",
       "  </tbody>\n",
       "</table>\n",
       "</div>"
      ],
      "text/plain": [
       "      Name  Age      City Country\n",
       "0    Alice   25  New York     USA\n",
       "1      Bob   30     Paris     USA\n",
       "2  Charlie   35    London     USA"
      ]
     },
     "execution_count": 26,
     "metadata": {},
     "output_type": "execute_result"
    }
   ],
   "source": [
    "df"
   ]
  },
  {
   "cell_type": "code",
   "execution_count": 28,
   "id": "16c6456a-86c8-4853-8017-372fbf32c848",
   "metadata": {},
   "outputs": [],
   "source": [
    " #8 del df['City']"
   ]
  },
  {
   "cell_type": "code",
   "execution_count": 30,
   "id": "73e3c3db-4fb6-4219-8037-16d5e8775526",
   "metadata": {},
   "outputs": [
    {
     "data": {
      "text/html": [
       "<div>\n",
       "<style scoped>\n",
       "    .dataframe tbody tr th:only-of-type {\n",
       "        vertical-align: middle;\n",
       "    }\n",
       "\n",
       "    .dataframe tbody tr th {\n",
       "        vertical-align: top;\n",
       "    }\n",
       "\n",
       "    .dataframe thead th {\n",
       "        text-align: right;\n",
       "    }\n",
       "</style>\n",
       "<table border=\"1\" class=\"dataframe\">\n",
       "  <thead>\n",
       "    <tr style=\"text-align: right;\">\n",
       "      <th></th>\n",
       "      <th>Name</th>\n",
       "      <th>Age</th>\n",
       "      <th>Country</th>\n",
       "    </tr>\n",
       "  </thead>\n",
       "  <tbody>\n",
       "    <tr>\n",
       "      <th>0</th>\n",
       "      <td>Alice</td>\n",
       "      <td>25</td>\n",
       "      <td>USA</td>\n",
       "    </tr>\n",
       "    <tr>\n",
       "      <th>1</th>\n",
       "      <td>Bob</td>\n",
       "      <td>30</td>\n",
       "      <td>USA</td>\n",
       "    </tr>\n",
       "    <tr>\n",
       "      <th>2</th>\n",
       "      <td>Charlie</td>\n",
       "      <td>35</td>\n",
       "      <td>USA</td>\n",
       "    </tr>\n",
       "  </tbody>\n",
       "</table>\n",
       "</div>"
      ],
      "text/plain": [
       "      Name  Age Country\n",
       "0    Alice   25     USA\n",
       "1      Bob   30     USA\n",
       "2  Charlie   35     USA"
      ]
     },
     "execution_count": 30,
     "metadata": {},
     "output_type": "execute_result"
    }
   ],
   "source": [
    "df"
   ]
  },
  {
   "cell_type": "code",
   "execution_count": 59,
   "id": "fec4bae2-a25d-431b-81af-3603e0c19ccb",
   "metadata": {},
   "outputs": [],
   "source": [
    "import pandas as pd\n",
    "import numpy as np "
   ]
  },
  {
   "cell_type": "code",
   "execution_count": 61,
   "id": "38014793-4440-4788-aebe-99c6ae196aac",
   "metadata": {},
   "outputs": [],
   "source": [
    "data = {\n",
    "    'Name': ['Alice', 'Bob', 'Charlie'], \n",
    "    'Age': [25, 30, 35],                \n",
    "    'City': ['New York', 'Paris', 'London']}"
   ]
  },
  {
   "cell_type": "code",
   "execution_count": 63,
   "id": "56af8d68-f823-460c-99ef-64bb398ce97c",
   "metadata": {},
   "outputs": [
    {
     "name": "stdout",
     "output_type": "stream",
     "text": [
      "      Name  Age      City Age_Group\n",
      "0    Alice   25  New York     Young\n",
      "1      Bob   30     Paris     Young\n",
      "2  Charlie   35    London       Old\n",
      "3    David   40     Tokyo       Old\n"
     ]
    }
   ],
   "source": [
    " # 12 df['Age_Group'] = np.where(df['Age'] <= 30, 'Young', 'Old')\n",
    "print(df)"
   ]
  },
  {
   "cell_type": "code",
   "execution_count": 67,
   "id": "2c69674b-2bb9-470e-9d93-0fff8040634b",
   "metadata": {},
   "outputs": [
    {
     "data": {
      "text/plain": [
       "32.5"
      ]
     },
     "execution_count": 67,
     "metadata": {},
     "output_type": "execute_result"
    }
   ],
   "source": [
    " # 14 df['Age'].mean()"
   ]
  },
  {
   "cell_type": "code",
   "execution_count": 69,
   "id": "04c66554-cfd3-454c-80d6-5cf277fb1010",
   "metadata": {},
   "outputs": [
    {
     "data": {
      "text/plain": [
       "32.5"
      ]
     },
     "execution_count": 69,
     "metadata": {},
     "output_type": "execute_result"
    }
   ],
   "source": [
    "df['Age'].median()"
   ]
  },
  {
   "cell_type": "code",
   "execution_count": 71,
   "id": "03750a5a-c3b2-4c4d-b66d-db74186aef62",
   "metadata": {},
   "outputs": [
    {
     "data": {
      "text/plain": [
       "6.454972243679028"
      ]
     },
     "execution_count": 71,
     "metadata": {},
     "output_type": "execute_result"
    }
   ],
   "source": [
    "df['Age'].std()"
   ]
  },
  {
   "cell_type": "code",
   "execution_count": 73,
   "id": "9ef23a8f-e930-49ec-8266-1d788533e3c6",
   "metadata": {},
   "outputs": [
    {
     "data": {
      "text/plain": [
       "array(['New York', 'Paris', 'London', 'Tokyo'], dtype=object)"
      ]
     },
     "execution_count": 73,
     "metadata": {},
     "output_type": "execute_result"
    }
   ],
   "source": [
    "  # 15 df['City'].unique()"
   ]
  },
  {
   "cell_type": "code",
   "execution_count": 81,
   "id": "e91524f4-5482-4236-949a-7eff90d9cbf3",
   "metadata": {},
   "outputs": [
    {
     "data": {
      "text/plain": [
       "4"
      ]
     },
     "execution_count": 81,
     "metadata": {},
     "output_type": "execute_result"
    }
   ],
   "source": [
    "df['City'].count()"
   ]
  },
  {
   "cell_type": "code",
   "execution_count": null,
   "id": "89d0def7-ef67-4297-b229-da0f862c7e9d",
   "metadata": {},
   "outputs": [],
   "source": []
  }
 ],
 "metadata": {
  "kernelspec": {
   "display_name": "Python 3 (ipykernel)",
   "language": "python",
   "name": "python3"
  },
  "language_info": {
   "codemirror_mode": {
    "name": "ipython",
    "version": 3
   },
   "file_extension": ".py",
   "mimetype": "text/x-python",
   "name": "python",
   "nbconvert_exporter": "python",
   "pygments_lexer": "ipython3",
   "version": "3.12.7"
  }
 },
 "nbformat": 4,
 "nbformat_minor": 5
}
