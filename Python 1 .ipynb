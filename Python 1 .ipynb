{
 "cells": [
  {
   "cell_type": "code",
   "execution_count": null,
   "id": "2b51ec62-1f02-486f-8025-0f65b09488d7",
   "metadata": {},
   "outputs": [],
   "source": [
    "#Basics python\n"
   ]
  },
  {
   "cell_type": "code",
   "execution_count": null,
   "id": "2168dd51-75c4-4484-b917-79cd89ff63ce",
   "metadata": {},
   "outputs": [],
   "source": [
    "# Keywords are special words that have a special meaning that are understood by python ."
   ]
  },
  {
   "cell_type": "code",
   "execution_count": 5,
   "id": "9feb83da-0976-4366-8ae4-d5f7eda6b9a2",
   "metadata": {},
   "outputs": [],
   "source": [
    "import keyword "
   ]
  },
  {
   "cell_type": "code",
   "execution_count": 7,
   "id": "0db8ec04-8b17-4225-8b3e-19e74826d588",
   "metadata": {},
   "outputs": [
    {
     "name": "stdout",
     "output_type": "stream",
     "text": [
      "['False', 'None', 'True', 'and', 'as', 'assert', 'async', 'await', 'break', 'class', 'continue', 'def', 'del', 'elif', 'else', 'except', 'finally', 'for', 'from', 'global', 'if', 'import', 'in', 'is', 'lambda', 'nonlocal', 'not', 'or', 'pass', 'raise', 'return', 'try', 'while', 'with', 'yield']\n"
     ]
    }
   ],
   "source": [
    "print(keyword.kwlist)"
   ]
  },
  {
   "cell_type": "code",
   "execution_count": null,
   "id": "5688a298-792f-4cad-9e9b-461bee4937d2",
   "metadata": {},
   "outputs": [],
   "source": [
    "#Boolean expersion are expressions that are created with keywords like and,or ,not ,True and false . "
   ]
  },
  {
   "cell_type": "code",
   "execution_count": 9,
   "id": "3e50a366-9052-4b1b-9a7e-3848b84e1de8",
   "metadata": {},
   "outputs": [
    {
     "data": {
      "text/plain": [
       "False"
      ]
     },
     "execution_count": 9,
     "metadata": {},
     "output_type": "execute_result"
    }
   ],
   "source": [
    "True and False "
   ]
  },
  {
   "cell_type": "code",
   "execution_count": 11,
   "id": "1e7ee580-897a-4c75-97f0-c03f47ab5205",
   "metadata": {},
   "outputs": [
    {
     "data": {
      "text/plain": [
       "True"
      ]
     },
     "execution_count": 11,
     "metadata": {},
     "output_type": "execute_result"
    }
   ],
   "source": [
    "True and True "
   ]
  },
  {
   "cell_type": "code",
   "execution_count": 13,
   "id": "6d41c572-2e30-402e-b142-c0655acd5632",
   "metadata": {},
   "outputs": [
    {
     "data": {
      "text/plain": [
       "True"
      ]
     },
     "execution_count": 13,
     "metadata": {},
     "output_type": "execute_result"
    }
   ],
   "source": [
    "True or False "
   ]
  },
  {
   "cell_type": "code",
   "execution_count": null,
   "id": "d637c76a-2f81-4926-9acd-558d1dd1e3c2",
   "metadata": {},
   "outputs": [],
   "source": [
    "#Now lets see the difference between and/or. \n"
   ]
  },
  {
   "cell_type": "code",
   "execution_count": 15,
   "id": "a3b2102a-3dc1-4dd3-97a5-77bfdaa1fe5c",
   "metadata": {},
   "outputs": [
    {
     "data": {
      "text/plain": [
       "False"
      ]
     },
     "execution_count": 15,
     "metadata": {},
     "output_type": "execute_result"
    }
   ],
   "source": [
    "not True "
   ]
  },
  {
   "cell_type": "code",
   "execution_count": 17,
   "id": "9fd5d774-3c14-430a-a2df-844473c6b5ea",
   "metadata": {},
   "outputs": [
    {
     "data": {
      "text/plain": [
       "True"
      ]
     },
     "execution_count": 17,
     "metadata": {},
     "output_type": "execute_result"
    }
   ],
   "source": [
    "not False "
   ]
  },
  {
   "cell_type": "code",
   "execution_count": 19,
   "id": "eb118362-94f2-47ef-a2ea-6c2d6c08d068",
   "metadata": {},
   "outputs": [
    {
     "data": {
      "text/plain": [
       "True"
      ]
     },
     "execution_count": 19,
     "metadata": {},
     "output_type": "execute_result"
    }
   ],
   "source": [
    "True is True "
   ]
  },
  {
   "cell_type": "code",
   "execution_count": 21,
   "id": "21f2b395-41f4-48af-92b4-bf4272baeb60",
   "metadata": {},
   "outputs": [
    {
     "data": {
      "text/plain": [
       "False"
      ]
     },
     "execution_count": 21,
     "metadata": {},
     "output_type": "execute_result"
    }
   ],
   "source": [
    "True is False "
   ]
  },
  {
   "cell_type": "code",
   "execution_count": 23,
   "id": "330257ab-1793-4518-9a57-3bfd6cac0421",
   "metadata": {},
   "outputs": [
    {
     "name": "stderr",
     "output_type": "stream",
     "text": [
      "<>:1: SyntaxWarning: \"is\" with 'str' literal. Did you mean \"==\"?\n",
      "<>:1: SyntaxWarning: \"is\" with 'str' literal. Did you mean \"==\"?\n",
      "/var/folders/6f/l9m6jbjs0cl768h9w87bn1w40000gn/T/ipykernel_3094/4173413985.py:1: SyntaxWarning: \"is\" with 'str' literal. Did you mean \"==\"?\n",
      "  'a' is 'b'\n"
     ]
    },
    {
     "data": {
      "text/plain": [
       "False"
      ]
     },
     "execution_count": 23,
     "metadata": {},
     "output_type": "execute_result"
    }
   ],
   "source": [
    "'a' is 'b'"
   ]
  },
  {
   "cell_type": "code",
   "execution_count": null,
   "id": "dcc561d3-b24d-4762-87f6-2e6484d38c9f",
   "metadata": {},
   "outputs": [],
   "source": [
    "# True =1\n",
    "False =0\n"
   ]
  },
  {
   "cell_type": "code",
   "execution_count": 25,
   "id": "ee324eab-489a-484b-a754-b3382177d8c3",
   "metadata": {},
   "outputs": [
    {
     "data": {
      "text/plain": [
       "2"
      ]
     },
     "execution_count": 25,
     "metadata": {},
     "output_type": "execute_result"
    }
   ],
   "source": [
    "True +True "
   ]
  },
  {
   "cell_type": "code",
   "execution_count": 27,
   "id": "330144b2-b381-4bba-8ab8-d57c8a1bc343",
   "metadata": {},
   "outputs": [
    {
     "data": {
      "text/plain": [
       "1"
      ]
     },
     "execution_count": 27,
     "metadata": {},
     "output_type": "execute_result"
    }
   ],
   "source": [
    "True +False "
   ]
  },
  {
   "cell_type": "code",
   "execution_count": 29,
   "id": "4ba67a6a-b687-4598-8a62-c406642fd19f",
   "metadata": {},
   "outputs": [
    {
     "data": {
      "text/plain": [
       "0"
      ]
     },
     "execution_count": 29,
     "metadata": {},
     "output_type": "execute_result"
    }
   ],
   "source": [
    "False + False \n"
   ]
  },
  {
   "cell_type": "code",
   "execution_count": 31,
   "id": "a1ee35ed-5fc7-4d5f-8dd5-428e730adc61",
   "metadata": {},
   "outputs": [
    {
     "data": {
      "text/plain": [
       "0"
      ]
     },
     "execution_count": 31,
     "metadata": {},
     "output_type": "execute_result"
    }
   ],
   "source": [
    "False-False "
   ]
  },
  {
   "cell_type": "code",
   "execution_count": 33,
   "id": "6324bd2f-23c2-4af3-a193-62e82513d355",
   "metadata": {},
   "outputs": [
    {
     "data": {
      "text/plain": [
       "-1"
      ]
     },
     "execution_count": 33,
     "metadata": {},
     "output_type": "execute_result"
    }
   ],
   "source": [
    "False -True "
   ]
  },
  {
   "cell_type": "code",
   "execution_count": null,
   "id": "0826c795-8795-47a5-98c3-eff1127edf24",
   "metadata": {},
   "outputs": [],
   "source": [
    "# (is) and (==) is the same "
   ]
  },
  {
   "cell_type": "code",
   "execution_count": 35,
   "id": "28341ac3-e68e-4e73-aa70-b98b0320f4c8",
   "metadata": {},
   "outputs": [
    {
     "data": {
      "text/plain": [
       "True"
      ]
     },
     "execution_count": 35,
     "metadata": {},
     "output_type": "execute_result"
    }
   ],
   "source": [
    "10<=10"
   ]
  },
  {
   "cell_type": "code",
   "execution_count": 37,
   "id": "b61c69e0-8776-4291-be8d-6cc86d4bd097",
   "metadata": {},
   "outputs": [
    {
     "data": {
      "text/plain": [
       "True"
      ]
     },
     "execution_count": 37,
     "metadata": {},
     "output_type": "execute_result"
    }
   ],
   "source": [
    "10==10"
   ]
  },
  {
   "cell_type": "code",
   "execution_count": 39,
   "id": "29d61b6d-067b-4b64-9942-90dc4719b55c",
   "metadata": {},
   "outputs": [
    {
     "data": {
      "text/plain": [
       "True"
      ]
     },
     "execution_count": 39,
     "metadata": {},
     "output_type": "execute_result"
    }
   ],
   "source": [
    "True and False or True "
   ]
  },
  {
   "cell_type": "code",
   "execution_count": null,
   "id": "1380cc60-82f8-4fc0-9ea4-85107d46d75b",
   "metadata": {},
   "outputs": [],
   "source": [
    "# These are all boolean expressions . \n"
   ]
  },
  {
   "cell_type": "code",
   "execution_count": null,
   "id": "a3b245e5-ca3f-47fa-b188-d3e2f3aa907e",
   "metadata": {},
   "outputs": [],
   "source": [
    "# Data types \n",
    "1Integers/int\n",
    "2 String/str\n",
    "3 complex/complex\n",
    "4 float\n",
    "5 Boolean \n",
    "\n",
    "\n"
   ]
  },
  {
   "cell_type": "code",
   "execution_count": 75,
   "id": "32af9d40-c509-4292-bd6a-96498b33b51c",
   "metadata": {},
   "outputs": [],
   "source": [
    "x=20"
   ]
  },
  {
   "cell_type": "code",
   "execution_count": 77,
   "id": "74fe4a9f-6706-4ed2-8566-34fe2689a109",
   "metadata": {},
   "outputs": [],
   "source": [
    "#x is  variable \n",
    "#20 is Data \n",
    "\n",
    "\n"
   ]
  },
  {
   "cell_type": "code",
   "execution_count": 84,
   "id": "98c52539-d6a4-4d0f-a7a0-e49debf9d888",
   "metadata": {},
   "outputs": [
    {
     "data": {
      "text/plain": [
       "int"
      ]
     },
     "execution_count": 84,
     "metadata": {},
     "output_type": "execute_result"
    }
   ],
   "source": [
    "type(x)\n",
    "\n",
    "\n"
   ]
  },
  {
   "cell_type": "code",
   "execution_count": null,
   "id": "f6e1f654-0051-4b13-925e-b6704f951ec3",
   "metadata": {},
   "outputs": [],
   "source": [
    "#Float number is a number with a decimal point. "
   ]
  },
  {
   "cell_type": "code",
   "execution_count": 92,
   "id": "37fc1842-79a7-420a-912e-536d79828cd8",
   "metadata": {},
   "outputs": [],
   "source": [
    "x=40.2\n"
   ]
  },
  {
   "cell_type": "code",
   "execution_count": 94,
   "id": "25531c88-435f-4706-bb6a-9d2269efc453",
   "metadata": {},
   "outputs": [
    {
     "data": {
      "text/plain": [
       "float"
      ]
     },
     "execution_count": 94,
     "metadata": {},
     "output_type": "execute_result"
    }
   ],
   "source": [
    "type(x)\n"
   ]
  },
  {
   "cell_type": "code",
   "execution_count": null,
   "id": "72acd72b-b196-400b-95dd-9a3f6bc27a02",
   "metadata": {},
   "outputs": [],
   "source": [
    "# a small mathematical operation "
   ]
  },
  {
   "cell_type": "code",
   "execution_count": 166,
   "id": "c8916080-3cf4-422a-a87a-1d7348d10de6",
   "metadata": {},
   "outputs": [],
   "source": [
    "a=44\n",
    "b=22"
   ]
  },
  {
   "cell_type": "code",
   "execution_count": 168,
   "id": "78a4d219-b9f5-472e-a998-1461864315d7",
   "metadata": {},
   "outputs": [],
   "source": [
    "c=a+b\n"
   ]
  },
  {
   "cell_type": "code",
   "execution_count": 170,
   "id": "a9db9320-0acb-4141-a71e-2b2ae151f1d6",
   "metadata": {},
   "outputs": [
    {
     "data": {
      "text/plain": [
       "66"
      ]
     },
     "execution_count": 170,
     "metadata": {},
     "output_type": "execute_result"
    }
   ],
   "source": [
    "c"
   ]
  },
  {
   "cell_type": "code",
   "execution_count": 172,
   "id": "dd40c0d7-2616-4fc6-848f-4f892b6fc603",
   "metadata": {},
   "outputs": [
    {
     "name": "stdout",
     "output_type": "stream",
     "text": [
      "132\n"
     ]
    }
   ],
   "source": [
    "print(c*2)"
   ]
  },
  {
   "cell_type": "code",
   "execution_count": null,
   "id": "d7385416-331d-4c5a-893e-93c2db2cac76",
   "metadata": {},
   "outputs": [],
   "source": []
  }
 ],
 "metadata": {
  "kernelspec": {
   "display_name": "Python 3 (ipykernel)",
   "language": "python",
   "name": "python3"
  },
  "language_info": {
   "codemirror_mode": {
    "name": "ipython",
    "version": 3
   },
   "file_extension": ".py",
   "mimetype": "text/x-python",
   "name": "python",
   "nbconvert_exporter": "python",
   "pygments_lexer": "ipython3",
   "version": "3.12.7"
  }
 },
 "nbformat": 4,
 "nbformat_minor": 5
}
